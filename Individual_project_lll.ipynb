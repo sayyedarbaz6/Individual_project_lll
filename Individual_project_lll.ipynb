{
  "nbformat": 4,
  "nbformat_minor": 0,
  "metadata": {
    "colab": {
      "name": "Individual_project_lll",
      "provenance": [],
      "collapsed_sections": []
    },
    "kernelspec": {
      "name": "python3",
      "display_name": "Python 3"
    },
    "language_info": {
      "name": "python"
    }
  },
  "cells": [
    {
      "cell_type": "code",
      "execution_count": 1,
      "metadata": {
        "id": "MqneT1x3mNnJ"
      },
      "outputs": [],
      "source": [
        "import pandas as pd\n",
        "df = pd.read_csv('/content/CricData.csv')\n",
        "\n",
        "\n",
        "\n",
        "dfd = df[\"Player Name \"]\n",
        "\n",
        "\n",
        "full_name=df['ODI Year : Run'].str.split(pat='\\n',expand=True)\n",
        "\n",
        "\n",
        "full_name.insert(0, \"Player Name\", dfd)\n",
        "#print(full_name)\n",
        "\n",
        "\n",
        "full_name.rename(columns = {'0':'2004'}, inplace = True)\n",
        "\n",
        "\n",
        "\n",
        "\n",
        "full_name.to_csv('/content/new_file00.csv', index=False)\n",
        "\n"
      ]
    }
  ]
}